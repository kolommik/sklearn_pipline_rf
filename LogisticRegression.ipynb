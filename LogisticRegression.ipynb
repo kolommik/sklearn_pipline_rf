{
 "cells": [
  {
   "cell_type": "code",
   "execution_count": 25,
   "metadata": {},
   "outputs": [],
   "source": [
    "import pandas as pd\n",
    "import numpy as np\n",
    "\n",
    "from sklearn.model_selection import train_test_split\n",
    "\n",
    "from sklearn.pipeline import Pipeline\n",
    "from sklearn.impute import SimpleImputer\n",
    "from sklearn.preprocessing import OneHotEncoder, MinMaxScaler\n",
    "from sklearn.compose import ColumnTransformer\n",
    "\n",
    "from sklearn.linear_model import LogisticRegression\n",
    "\n",
    "import matplotlib.pyplot as plt\n",
    "import seaborn as sns\n",
    "%matplotlib inline"
   ]
  },
  {
   "cell_type": "code",
   "execution_count": 16,
   "metadata": {},
   "outputs": [
    {
     "data": {
      "text/html": [
       "<div>\n",
       "<style scoped>\n",
       "    .dataframe tbody tr th:only-of-type {\n",
       "        vertical-align: middle;\n",
       "    }\n",
       "\n",
       "    .dataframe tbody tr th {\n",
       "        vertical-align: top;\n",
       "    }\n",
       "\n",
       "    .dataframe thead th {\n",
       "        text-align: right;\n",
       "    }\n",
       "</style>\n",
       "<table border=\"1\" class=\"dataframe\">\n",
       "  <thead>\n",
       "    <tr style=\"text-align: right;\">\n",
       "      <th></th>\n",
       "      <th>SWE Store Key</th>\n",
       "      <th>Region</th>\n",
       "      <th>Distrib</th>\n",
       "      <th>Office</th>\n",
       "      <th>FFDSL</th>\n",
       "      <th>TSE/MTDE</th>\n",
       "      <th>Уровень Торг Региона 1</th>\n",
       "      <th>Уровень Торг Региона 2</th>\n",
       "      <th>Filial Name</th>\n",
       "      <th>Filial Ship To</th>\n",
       "      <th>...</th>\n",
       "      <th>Chain. Chain Sub Tier MWC</th>\n",
       "      <th>Channel Name 2018</th>\n",
       "      <th>Outlet Type 2018</th>\n",
       "      <th>Trade Structure</th>\n",
       "      <th>From Dc</th>\n",
       "      <th>Segment MWC. Segment Name</th>\n",
       "      <th>Cluster MWC</th>\n",
       "      <th>Ship-to TO BE (загружено RSS)</th>\n",
       "      <th>Latitude</th>\n",
       "      <th>Longitude</th>\n",
       "    </tr>\n",
       "  </thead>\n",
       "  <tbody>\n",
       "    <tr>\n",
       "      <td>0</td>\n",
       "      <td>1000201031</td>\n",
       "      <td>Siberia</td>\n",
       "      <td>ООО Гермес</td>\n",
       "      <td>MWC ООО Гермес (Новокузнецк)</td>\n",
       "      <td>MWC FFDL Kuzbass (Vetrova Marina)</td>\n",
       "      <td>MWC TSE Novokuznetsk (Sandler Kseniya)</td>\n",
       "      <td>TL MWC: Север Кузбасса (Мокроусов Илья)</td>\n",
       "      <td>Агент МарсРигли-08 (Киселевск-2)(Погребных А.)...</td>\n",
       "      <td>MWC ООО Гермес (Новокузнецк)</td>\n",
       "      <td>10340352.0</td>\n",
       "      <td>...</td>\n",
       "      <td>Other</td>\n",
       "      <td>Traditional Independent Trade</td>\n",
       "      <td>BTC</td>\n",
       "      <td>TT</td>\n",
       "      <td>False</td>\n",
       "      <td>C1</td>\n",
       "      <td>Cluster 2</td>\n",
       "      <td>10340352</td>\n",
       "      <td>54.002310</td>\n",
       "      <td>86.543748</td>\n",
       "    </tr>\n",
       "    <tr>\n",
       "      <td>1</td>\n",
       "      <td>100050000000002</td>\n",
       "      <td>North-West</td>\n",
       "      <td>ЗАО Денди</td>\n",
       "      <td>MWC Денди ЗАО</td>\n",
       "      <td>MWC FFDL SPb (Brus Roman)</td>\n",
       "      <td>MWC TSE St.Petersburg 1 (Baranov Igor)</td>\n",
       "      <td>TL: 4323 - Svetlichniys (DISTR: Денди) (Svetli...</td>\n",
       "      <td>SR: 98069 - Кукко_d (Кукко Наталья_d)</td>\n",
       "      <td>MWC Денди ЗАО</td>\n",
       "      <td>10407751.0</td>\n",
       "      <td>...</td>\n",
       "      <td>Other</td>\n",
       "      <td>Traditional Independent Trade</td>\n",
       "      <td>BTC</td>\n",
       "      <td>TT</td>\n",
       "      <td>True</td>\n",
       "      <td>C0</td>\n",
       "      <td>Cluster 3</td>\n",
       "      <td>10407751</td>\n",
       "      <td>59.838353</td>\n",
       "      <td>30.387724</td>\n",
       "    </tr>\n",
       "    <tr>\n",
       "      <td>2</td>\n",
       "      <td>100050000000031</td>\n",
       "      <td>North-West</td>\n",
       "      <td>ЗАО Денди</td>\n",
       "      <td>MWC Денди ЗАО</td>\n",
       "      <td>MWC FFDL SPb (Brus Roman)</td>\n",
       "      <td>MWC TSE St.Petersburg 1 (Baranov Igor)</td>\n",
       "      <td>TL: 4322 - Виртуальная территория_d (Vacant)</td>\n",
       "      <td>Виртуальная территория_d (Vacant)</td>\n",
       "      <td>MWC Денди ЗАО</td>\n",
       "      <td>10407751.0</td>\n",
       "      <td>...</td>\n",
       "      <td>Other</td>\n",
       "      <td>Traditional Independent Trade</td>\n",
       "      <td>BTC</td>\n",
       "      <td>TT</td>\n",
       "      <td>False</td>\n",
       "      <td>C0</td>\n",
       "      <td>Cluster 3</td>\n",
       "      <td>10407751</td>\n",
       "      <td>59.904175</td>\n",
       "      <td>30.420953</td>\n",
       "    </tr>\n",
       "  </tbody>\n",
       "</table>\n",
       "<p>3 rows × 24 columns</p>\n",
       "</div>"
      ],
      "text/plain": [
       "     SWE Store Key      Region     Distrib                        Office  \\\n",
       "0       1000201031     Siberia  ООО Гермес  MWC ООО Гермес (Новокузнецк)   \n",
       "1  100050000000002  North-West   ЗАО Денди                 MWC Денди ЗАО   \n",
       "2  100050000000031  North-West   ЗАО Денди                 MWC Денди ЗАО   \n",
       "\n",
       "                               FFDSL                                TSE/MTDE  \\\n",
       "0  MWC FFDL Kuzbass (Vetrova Marina)  MWC TSE Novokuznetsk (Sandler Kseniya)   \n",
       "1          MWC FFDL SPb (Brus Roman)  MWC TSE St.Petersburg 1 (Baranov Igor)   \n",
       "2          MWC FFDL SPb (Brus Roman)  MWC TSE St.Petersburg 1 (Baranov Igor)   \n",
       "\n",
       "                              Уровень Торг Региона 1  \\\n",
       "0            TL MWC: Север Кузбасса (Мокроусов Илья)   \n",
       "1  TL: 4323 - Svetlichniys (DISTR: Денди) (Svetli...   \n",
       "2       TL: 4322 - Виртуальная территория_d (Vacant)   \n",
       "\n",
       "                              Уровень Торг Региона 2  \\\n",
       "0  Агент МарсРигли-08 (Киселевск-2)(Погребных А.)...   \n",
       "1              SR: 98069 - Кукко_d (Кукко Наталья_d)   \n",
       "2                  Виртуальная территория_d (Vacant)   \n",
       "\n",
       "                    Filial Name  Filial Ship To  ...  \\\n",
       "0  MWC ООО Гермес (Новокузнецк)      10340352.0  ...   \n",
       "1                 MWC Денди ЗАО      10407751.0  ...   \n",
       "2                 MWC Денди ЗАО      10407751.0  ...   \n",
       "\n",
       "  Chain. Chain Sub Tier MWC              Channel Name 2018  Outlet Type 2018  \\\n",
       "0                     Other  Traditional Independent Trade               BTC   \n",
       "1                     Other  Traditional Independent Trade               BTC   \n",
       "2                     Other  Traditional Independent Trade               BTC   \n",
       "\n",
       "  Trade Structure From Dc Segment MWC. Segment Name Cluster MWC  \\\n",
       "0              TT   False                        C1   Cluster 2   \n",
       "1              TT    True                        C0   Cluster 3   \n",
       "2              TT   False                        C0   Cluster 3   \n",
       "\n",
       "  Ship-to TO BE (загружено RSS)   Latitude  Longitude  \n",
       "0                      10340352  54.002310  86.543748  \n",
       "1                      10407751  59.838353  30.387724  \n",
       "2                      10407751  59.904175  30.420953  \n",
       "\n",
       "[3 rows x 24 columns]"
      ]
     },
     "execution_count": 16,
     "metadata": {},
     "output_type": "execute_result"
    }
   ],
   "source": [
    "data = pd.read_csv(r\".\\DATA\\_prepared_data.csv\")\n",
    "data.head(3)"
   ]
  },
  {
   "cell_type": "code",
   "execution_count": 17,
   "metadata": {},
   "outputs": [],
   "source": [
    "# X cols & Y cols\n",
    "\n",
    "Y_COLS = [\"Ship-to TO BE (загружено RSS)\"]\n",
    "X_COLS = [col for col in data.columns if col not in Y_COLS]"
   ]
  },
  {
   "cell_type": "code",
   "execution_count": 18,
   "metadata": {},
   "outputs": [],
   "source": [
    "X = data[X_COLS]\n",
    "y = data[Y_COLS]"
   ]
  },
  {
   "cell_type": "code",
   "execution_count": 19,
   "metadata": {},
   "outputs": [
    {
     "data": {
      "text/plain": [
       "(Index(['Region', 'Distrib', 'Office', 'FFDSL', 'TSE/MTDE',\n",
       "        'Уровень Торг Региона 1', 'Уровень Торг Региона 2', 'Filial Name',\n",
       "        'Chain Type', 'Chain Name', 'Chain. Chain Tier MWC',\n",
       "        'Chain. Chain Sub Tier MWC', 'Channel Name 2018', 'Outlet Type 2018',\n",
       "        'Trade Structure', 'Segment MWC. Segment Name', 'Cluster MWC'],\n",
       "       dtype='object'),\n",
       " Index(['SWE Store Key', 'Filial Ship To', 'Chain Id', 'From Dc', 'Latitude',\n",
       "        'Longitude'],\n",
       "       dtype='object'))"
      ]
     },
     "execution_count": 19,
     "metadata": {},
     "output_type": "execute_result"
    }
   ],
   "source": [
    "cat_features = X.select_dtypes(include=['object']).columns  # Categorical\n",
    "num_features = X.select_dtypes(exclude=['object']).columns  # Numeric\n",
    "\n",
    "cat_features, num_features"
   ]
  },
  {
   "cell_type": "code",
   "execution_count": 20,
   "metadata": {},
   "outputs": [
    {
     "name": "stderr",
     "output_type": "stream",
     "text": [
      "C:\\Users\\kolommik\\AppData\\Local\\Continuum\\anaconda3\\lib\\site-packages\\ipykernel_launcher.py:2: SettingWithCopyWarning: \n",
      "A value is trying to be set on a copy of a slice from a DataFrame.\n",
      "Try using .loc[row_indexer,col_indexer] = value instead\n",
      "\n",
      "See the caveats in the documentation: http://pandas.pydata.org/pandas-docs/stable/user_guide/indexing.html#returning-a-view-versus-a-copy\n",
      "  \n"
     ]
    }
   ],
   "source": [
    "for col in cat_features:\n",
    "    X[col]=X[col].astype(str)"
   ]
  },
  {
   "cell_type": "code",
   "execution_count": 21,
   "metadata": {},
   "outputs": [],
   "source": [
    "X_train, X_test, y_train, y_test = train_test_split(X, y, test_size=0.3, stratify=y, random_state=42)"
   ]
  },
  {
   "cell_type": "code",
   "execution_count": 22,
   "metadata": {},
   "outputs": [
    {
     "data": {
      "text/plain": [
       "[(142699, 23), (61158, 23), (142699, 1), (61158, 1)]"
      ]
     },
     "execution_count": 22,
     "metadata": {},
     "output_type": "execute_result"
    }
   ],
   "source": [
    "[i.shape for i in [X_train, X_test, y_train, y_test]]"
   ]
  },
  {
   "cell_type": "markdown",
   "metadata": {},
   "source": [
    "## LogisticRegression pipeline"
   ]
  },
  {
   "cell_type": "code",
   "execution_count": 32,
   "metadata": {},
   "outputs": [
    {
     "name": "stderr",
     "output_type": "stream",
     "text": [
      "C:\\Users\\kolommik\\AppData\\Local\\Continuum\\anaconda3\\lib\\site-packages\\sklearn\\utils\\validation.py:760: DataConversionWarning: A column-vector y was passed when a 1d array was expected. Please change the shape of y to (n_samples, ), for example using ravel().\n",
      "  y = column_or_1d(y, warn=True)\n"
     ]
    },
    {
     "name": "stdout",
     "output_type": "stream",
     "text": [
      "Wall time: 1min 31s\n"
     ]
    },
    {
     "data": {
      "text/plain": [
       "Pipeline(memory=None,\n",
       "         steps=[('preprocess',\n",
       "                 ColumnTransformer(n_jobs=None, remainder='drop',\n",
       "                                   sparse_threshold=0.3,\n",
       "                                   transformer_weights=None,\n",
       "                                   transformers=[('cat',\n",
       "                                                  Pipeline(memory=None,\n",
       "                                                           steps=[('imputer',\n",
       "                                                                   SimpleImputer(add_indicator=False,\n",
       "                                                                                 copy=True,\n",
       "                                                                                 fill_value='missing',\n",
       "                                                                                 missing_values=nan,\n",
       "                                                                                 strategy='constant',\n",
       "                                                                                 verbose=0)),\n",
       "                                                                  ('onehot',\n",
       "                                                                   OneHotEncoder(categories='aut...\n",
       "                                                  Index(['SWE Store Key', 'Filial Ship To', 'Chain Id', 'From Dc', 'Latitude',\n",
       "       'Longitude'],\n",
       "      dtype='object'))],\n",
       "                                   verbose=False)),\n",
       "                ('classifier',\n",
       "                 LogisticRegression(C=1.0, class_weight=None, dual=False,\n",
       "                                    fit_intercept=True, intercept_scaling=1,\n",
       "                                    l1_ratio=None, max_iter=100,\n",
       "                                    multi_class='multinomial', n_jobs=-1,\n",
       "                                    penalty='l2', random_state=42,\n",
       "                                    solver='lbfgs', tol=0.0001, verbose=0,\n",
       "                                    warm_start=False))],\n",
       "         verbose=False)"
      ]
     },
     "execution_count": 32,
     "metadata": {},
     "output_type": "execute_result"
    }
   ],
   "source": [
    "%%time\n",
    "\n",
    "cat_pipe = Pipeline([\n",
    "    ('imputer', SimpleImputer(strategy='constant', fill_value='missing')),\n",
    "    ('onehot', OneHotEncoder(handle_unknown='ignore'))\n",
    "])\n",
    "num_pipe = Pipeline([\n",
    "    ('imputer', SimpleImputer(strategy='mean')),\n",
    "    ('scaler', MinMaxScaler())\n",
    "])\n",
    "\n",
    "preprocessing = ColumnTransformer(\n",
    "    [('cat', cat_pipe, cat_features),\n",
    "     ('num', num_pipe, num_features)\n",
    "    ])\n",
    "\n",
    "lr = Pipeline([\n",
    "    ('preprocess', preprocessing),\n",
    "    ('classifier', LogisticRegression(multi_class='multinomial', random_state=42, n_jobs=-1))\n",
    "])\n",
    "\n",
    "# model = LogisticRegression(multi_class='multinomial',random_state=20,n_jobs=-1)\n",
    "\n",
    "lr.fit(X_train, y_train)"
   ]
  },
  {
   "cell_type": "code",
   "execution_count": 33,
   "metadata": {},
   "outputs": [
    {
     "name": "stdout",
     "output_type": "stream",
     "text": [
      "LR train accuracy: 0.9947\n",
      "LR test accuracy: 0.9932\n"
     ]
    }
   ],
   "source": [
    "print(\"LR train accuracy: {0:.4f}\".format(lr.score(X_train, y_train)))\n",
    "print(\"LR test accuracy: {0:.4f}\".format(lr.score(X_test, y_test)))"
   ]
  },
  {
   "cell_type": "code",
   "execution_count": 38,
   "metadata": {},
   "outputs": [
    {
     "data": {
      "text/plain": [
       "array([[ 1.90042076, -0.57630778,  0.9453525 , ..., -0.72768851,\n",
       "        -0.40769153,  0.50202909],\n",
       "       [-1.93662165,  0.20236167, -0.63000141, ...,  0.05138858,\n",
       "         0.34527157,  1.37647703],\n",
       "       [ 0.66371066, -0.06391397, -1.17175594, ...,  2.67490107,\n",
       "        -0.38956966,  0.05838454],\n",
       "       ...,\n",
       "       [-1.25921285, -0.24590526, -0.0908738 , ..., -0.39229752,\n",
       "         1.77008011,  1.60177833],\n",
       "       [-0.76357569, -1.6706218 , -0.48094414, ..., -1.26631821,\n",
       "         3.11128282,  0.86779036],\n",
       "       [-1.38467313, -1.12065354, -1.80216934, ..., -2.14843025,\n",
       "        -0.8456568 , 15.11637678]])"
      ]
     },
     "execution_count": 38,
     "metadata": {},
     "output_type": "execute_result"
    }
   ],
   "source": [
    "lr.decision_function(X_train)"
   ]
  },
  {
   "cell_type": "code",
   "execution_count": null,
   "metadata": {},
   "outputs": [],
   "source": []
  }
 ],
 "metadata": {
  "kernelspec": {
   "display_name": "Python 3",
   "language": "python",
   "name": "python3"
  },
  "language_info": {
   "codemirror_mode": {
    "name": "ipython",
    "version": 3
   },
   "file_extension": ".py",
   "mimetype": "text/x-python",
   "name": "python",
   "nbconvert_exporter": "python",
   "pygments_lexer": "ipython3",
   "version": "3.7.4"
  }
 },
 "nbformat": 4,
 "nbformat_minor": 2
}
